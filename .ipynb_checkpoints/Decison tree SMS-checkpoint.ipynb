{
 "cells": [
  {
   "cell_type": "code",
   "execution_count": 1,
   "id": "8ab2b351-8055-4b59-a90e-a9fa296557d3",
   "metadata": {},
   "outputs": [],
   "source": [
    "import pandas as pd\n",
    "import africastalking\n",
    "import re\n",
    "\n",
    "from datetime import datetime, date"
   ]
  },
  {
   "cell_type": "code",
   "execution_count": 2,
   "id": "c05100f8-642d-42a9-b16e-41488c52fa7b",
   "metadata": {},
   "outputs": [],
   "source": [
    "# Initialize SDK\n",
    "#sender = \" \" # use your username from AfricasTalking \n",
    "#username = \" \" # use your username from AfricasTalking \n",
    "#api_key = \" \"       # use your API key\n",
    "\n",
    "# Initialize SDK\n",
    "sender = \"AGRIBORA\"\n",
    "username = \"farmer_subscription\"    # use 'sandbox' for development in the test environment\n",
    "api_key = \"0b8431b6934159dba02fee7fd359004f345f4679052f4009f86e8a3f7d11ff7a\"       # use your sandbox app API key for development in the test environment\n",
    "\n",
    "# Initialize services\n",
    "africastalking.initialize(username, api_key)\n",
    "sms = africastalking.SMS"
   ]
  },
  {
   "cell_type": "code",
   "execution_count": 3,
   "id": "f64abe48-f768-40af-b7bf-0885475c8dc5",
   "metadata": {},
   "outputs": [],
   "source": [
    "sms_df = pd.read_excel(r'data/Decision tree_v1.0.xlsx')\n",
    "farmers_df = pd.read_excel(r'data/smartfarmer_contacts.xlsx')\n",
    "maize_df = sms_df.query('Crop == \"Maize\"')\n",
    "soybeans_df = sms_df.query('Crop == \"Soybeans\"')"
   ]
  },
  {
   "cell_type": "code",
   "execution_count": 4,
   "id": "915b035e-826d-40a5-9560-98bc091a8036",
   "metadata": {},
   "outputs": [],
   "source": [
    "def get_dap(farmer_id):\n",
    "    # here we get the current day anfter planting based on the planting date\n",
    "    datetime_str = farmers_df.planting_date.iloc[farmer_id]\n",
    "    datetime_object = datetime.strptime(datetime_str, '%d.%m.%Y')\n",
    "    dt = datetime.today()\n",
    "    if datetime_object.year == dt.year:\n",
    "        dap = datetime_object.timetuple().tm_yday - dt.timetuple().tm_yday\n",
    "    elif datetime_object.year < dt.year:\n",
    "        delta = (date(2021, 12, 31) - datetime_object.date()).days\n",
    "        dap = dt.timetuple().tm_yday + delta\n",
    "    else:\n",
    "        print(\"Date cannot be in the future!\")\n",
    "    return dap\n",
    "\n",
    "def get_growthStage(dap):\n",
    "    # returns the stage of development for the given day after planting\n",
    "    enum_list = maize_df.DAP.unique().tolist()\n",
    "    for num in enum_list:\n",
    "        if dap < num:\n",
    "            break\n",
    "    idx = enum_list.index(num)\n",
    "    return maize_df[maize_df['DAP']== enum_list[idx-1]].Stage.unique().tolist()[0]\n",
    "\n",
    "def get_SMS(farmer_id, precip, temp):\n",
    "    # Compares the available precipitation amount with the decision table\n",
    "    # returns a dataframe with potential messages for the specific rainfall amount\n",
    "    \n",
    "    dap = get_dap(farmer_id)\n",
    "    stage = get_growthStage(dap)\n",
    "    stage_df = maize_df[maize_df['Stage']== stage] # get df with a particular stage\n",
    "    unique_params = stage_df.Precipitation.str.extract('(\\d+)')[0].unique().tolist()\n",
    "    min_val = stage_df.Precipitation.iloc[0]\n",
    "    max_val = stage_df.Precipitation.iloc[-1]\n",
    "\n",
    "    if precip < int(unique_params[0]):\n",
    "        df = stage_df.query('Precipitation == @min_val')\n",
    "    elif precip > int(unique_params[-1]):\n",
    "        df = stage_df.query('Precipitation == @max_val')\n",
    "    else:\n",
    "        df = stage_df.query('Precipitation != @min_val & Precipitation != @max_val') \n",
    "    prec_df = df\n",
    "    temp_params = prec_df.Temp.str.extract('(\\d+)')[0].unique().tolist()\n",
    "    min_val = prec_df.Temp.iloc[0]\n",
    "    max_val = prec_df.Temp.iloc[-1]\n",
    "\n",
    "    if temp < int(temp_params[0]):\n",
    "        temp_df = prec_df.query('Temp == @min_val')\n",
    "    elif temp > int(temp_params[-1]):\n",
    "        temp_df = prec_df.query('Temp == @max_val')\n",
    "    else:\n",
    "        temp_df = prec_df.query('Temp != @min_val & Temp != @max_val')   \n",
    "    return temp_df.SMS.item()\n",
    "\n",
    "def send_SMS(farmer_id):\n",
    "    msg = get_SMS(farmer_id, 33, 14)\n",
    "    number = '+' + str(farmers_df.Phone_number.iloc[farmer_id])\n",
    "    success = 0\n",
    "    sent = 0\n",
    "    response = sms.send(msg, [number], sender) # send SMS\n",
    "    sent +=1 # record that SMS was sent\n",
    "    if response['SMSMessageData']['Recipients'][0]['status'] == 'Success': # check if message was sent successfully\n",
    "        success +=1\n",
    "    print(sent)\n",
    "    print(success) "
   ]
  },
  {
   "cell_type": "code",
   "execution_count": 6,
   "id": "867ff4d7-006c-41e8-b6a8-720667e17615",
   "metadata": {},
   "outputs": [
    {
     "name": "stdout",
     "output_type": "stream",
     "text": [
      "1\n",
      "1\n"
     ]
    }
   ],
   "source": [
    "get_SMS(1, 33, 22)\n",
    "#send_SMS(0)"
   ]
  },
  {
   "cell_type": "code",
   "execution_count": null,
   "id": "14f23289-c81d-4f94-bfb1-27268620bf30",
   "metadata": {},
   "outputs": [],
   "source": []
  }
 ],
 "metadata": {
  "kernelspec": {
   "display_name": "Python 3 (ipykernel)",
   "language": "python",
   "name": "python3"
  },
  "language_info": {
   "codemirror_mode": {
    "name": "ipython",
    "version": 3
   },
   "file_extension": ".py",
   "mimetype": "text/x-python",
   "name": "python",
   "nbconvert_exporter": "python",
   "pygments_lexer": "ipython3",
   "version": "3.9.7"
  }
 },
 "nbformat": 4,
 "nbformat_minor": 5
}
