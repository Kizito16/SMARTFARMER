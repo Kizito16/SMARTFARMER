{
 "cells": [
  {
   "cell_type": "markdown",
   "id": "5ef3057a",
   "metadata": {},
   "source": [
    "## Simulating 2021 water limited Soybean production in Ndhiwa Homabay county."
   ]
  },
  {
   "cell_type": "markdown",
   "id": "57580457",
   "metadata": {},
   "source": [
    "##### The input data for simulation is adopted from Alfred Nyambane's thesis report"
   ]
  },
  {
   "cell_type": "markdown",
   "id": "2852aa66",
   "metadata": {},
   "source": [
    "### Importing relevant modules"
   ]
  },
  {
   "cell_type": "code",
   "execution_count": 1,
   "id": "41e31a2f",
   "metadata": {},
   "outputs": [
    {
     "name": "stdout",
     "output_type": "stream",
     "text": [
      "This notebook was built with:\n",
      "python version: 3.9.7 | packaged by conda-forge | (default, Sep 29 2021, 19:20:46) \n",
      "[GCC 9.4.0] \n",
      "PCSE version: 5.5.0\n"
     ]
    }
   ],
   "source": [
    "%matplotlib inline\n",
    "import sys, os\n",
    "import matplotlib\n",
    "matplotlib.style.use(\"ggplot\")\n",
    "import matplotlib.pyplot as plt\n",
    "import pandas as pd\n",
    "\n",
    "data_dir = os.path.join(os.getcwd(), \"data\")\n",
    "import pcse\n",
    "print(\"This notebook was built with:\")\n",
    "print(\"python version: %s \" % sys.version)\n",
    "print(\"PCSE version: %s\" %  pcse.__version__)"
   ]
  },
  {
   "cell_type": "markdown",
   "id": "beefc9aa",
   "metadata": {},
   "source": [
    "### Importing CABOFileReader (crop and soil files are saved in CABO format) and  WOFOST71SiteDataProvider. "
   ]
  },
  {
   "cell_type": "code",
   "execution_count": 2,
   "id": "f2e9d5dd",
   "metadata": {},
   "outputs": [
    {
     "name": "stdout",
     "output_type": "stream",
     "text": [
      "{'IFUNRN': 0, 'NOTINF': 0, 'SSI': 0.0, 'SSMAX': 0.0, 'WAV': 10.0, 'SMLIM': 0.4, 'CO2': 360.0}\n"
     ]
    }
   ],
   "source": [
    "from pcse.fileinput import CABOFileReader\n",
    "from pcse.util import WOFOST71SiteDataProvider\n",
    "sited = WOFOST71SiteDataProvider(WAV=10, CO2=360)\n",
    "print(sited)"
   ]
  },
  {
   "cell_type": "markdown",
   "id": "72a4850c",
   "metadata": {},
   "source": [
    "### Reading model parameters."
   ]
  },
  {
   "cell_type": "code",
   "execution_count": 3,
   "id": "3827dd10-87dc-47f8-b807-a1cc437ceeb1",
   "metadata": {},
   "outputs": [],
   "source": [
    "from pcse.fileinput import PCSEFileReader\n",
    "from pcse.base import ParameterProvider\n",
    "#crop = PCSEFileReader(os.path.join(data_dir, \"crop\", \"lintul3_soybean.crop\"))\n",
    "from pcse.fileinput import YAMLCropDataProvider\n",
    "cropd = YAMLCropDataProvider(os.path.join(data_dir, \"crop\"))\n",
    "cropd.set_active_crop('soybean', 'Soybean_901')\n",
    "soil = PCSEFileReader(os.path.join(data_dir, \"soil\", \"lintul3_soybeans.soil\"))\n",
    "site = PCSEFileReader(os.path.join(data_dir, \"site\", \"lintul3_soybeans.site\"))\n",
    "parameterprovider = ParameterProvider(soildata=soil, cropdata=cropd, sitedata=site)\n",
    "#parameterprovider = ParameterProvider(soildata=soil, cropdata=crop, sitedata=site)"
   ]
  },
  {
   "cell_type": "markdown",
   "id": "08331b81",
   "metadata": {},
   "source": [
    "##### The crop profile for SeedCo. SC-Saga soybean cultivar was adopted from the soybean,(original W41) in WOFOST database. This is because Soybean,(original W41) was derived for assessment of tropical region crop production potential by WOFOST developers. "
   ]
  },
  {
   "cell_type": "code",
   "execution_count": 4,
   "id": "281784ce",
   "metadata": {},
   "outputs": [],
   "source": [
    "soilfile = os.path.join(data_dir, 'soil', 'M04.AWC')\n",
    "soild = CABOFileReader(soilfile)"
   ]
  },
  {
   "cell_type": "markdown",
   "id": "d169a6d0",
   "metadata": {},
   "source": [
    "#####  The soil at the experiment site has 63.8% sand, 36% and 0.21% clay and silt respectively. According to the USDA soil texture triangle, the soil is sandy clay loam and roughly matches with the texture-1 coarse, AWC 150 mm soil in WOFOST. "
   ]
  },
  {
   "cell_type": "code",
   "execution_count": 5,
   "id": "167e1bbb",
   "metadata": {},
   "outputs": [],
   "source": [
    "from pcse.base import ParameterProvider\n",
    "parameters = ParameterProvider(cropdata=cropd, soildata=soild, sitedata=sited)"
   ]
  },
  {
   "cell_type": "markdown",
   "id": "b0305e2e",
   "metadata": {},
   "source": [
    "### Importing ParameterProvider"
   ]
  },
  {
   "cell_type": "code",
   "execution_count": 6,
   "id": "a987c7c4",
   "metadata": {},
   "outputs": [],
   "source": [
    "from pcse.base import ParameterProvider\n",
    "parameters = ParameterProvider(cropdata=cropd, soildata=soild, sitedata=sited)"
   ]
  },
  {
   "cell_type": "markdown",
   "id": "e60725fb",
   "metadata": {},
   "source": [
    "### Importing YAMLAgroManagementReader"
   ]
  },
  {
   "cell_type": "code",
   "execution_count": 8,
   "id": "b2019297",
   "metadata": {},
   "outputs": [
    {
     "name": "stdout",
     "output_type": "stream",
     "text": [
      "!!python/object/new:pcse.fileinput.yaml_agro_loader.YAMLAgroManagementReader\n",
      "listitems:\n",
      "- 2020-08-31:\n",
      "    CropCalendar:\n",
      "      crop_end_date: 2021-01-12\n",
      "      crop_end_type: earliest\n",
      "      crop_name: soybean\n",
      "      crop_start_date: 2020-09-15\n",
      "      crop_start_type: sowing\n",
      "      max_duration: 120\n",
      "      variety_name: Soybean_907\n",
      "    StateEvents: null\n",
      "    TimedEvents:\n",
      "    - comment: All nitrogen amounts in g N m-2\n",
      "      event_signal: apply_n\n",
      "      events_table:\n",
      "      - 2020-09-15:\n",
      "          amount: 2.2\n",
      "          recovery: 0.7\n",
      "      name: Nitrogen application table\n",
      "\n"
     ]
    }
   ],
   "source": [
    "from pcse.fileinput import YAMLAgroManagementReader\n",
    "agromanagement_file = os.path.join(data_dir, 'agro', 'lintul3_soybeans_calendar.agro')\n",
    "agromanagement = YAMLAgroManagementReader(agromanagement_file)\n",
    "print(agromanagement)"
   ]
  },
  {
   "cell_type": "markdown",
   "id": "fd5813cd",
   "metadata": {},
   "source": [
    "### Importing ExcelWeatherDataProvider and reading weather data "
   ]
  },
  {
   "cell_type": "code",
   "execution_count": 10,
   "id": "2048f678",
   "metadata": {},
   "outputs": [
    {
     "name": "stdout",
     "output_type": "stream",
     "text": [
      "Weather data provided by: ExcelWeatherDataProvider\n",
      "--------Description---------\n",
      "Weather data for:\n",
      "Country: Chwele, Kenya\n",
      "Station: NIL\n",
      "Description: Observed data from Chwele, Kenya\n",
      "Source: NIL\n",
      "Contact: KALRO/ AgriBORA\n",
      "----Site characteristics----\n",
      "Elevation: 1625.0\n",
      "Latitude:  34.577\n",
      "Longitude:  0.736\n",
      "Data available for 2016-01-01 - 2021-08-30\n",
      "Number of missing days: 0\n",
      "\n"
     ]
    }
   ],
   "source": [
    "from pcse.fileinput import ExcelWeatherDataProvider\n",
    "weatherfile = os.path.join(data_dir, 'meteo', 'chwele.xls')\n",
    "wdp = ExcelWeatherDataProvider(weatherfile)\n",
    "print(wdp)"
   ]
  },
  {
   "cell_type": "markdown",
   "id": "d1ce1261",
   "metadata": {},
   "source": [
    "##### The weather data is downloaded from meteoblue historybasic and historysolar and saved in an excel file. The global horizontal irradiation (GHI) downloaded from the historysolar URL is considered as the irradiation variable. GHI downloaded is in Wh/m^2 and not W/m^2. This is then converted to the kJ/M62/day that is compartible to the WOFOST model. "
   ]
  },
  {
   "cell_type": "markdown",
   "id": "d947582c",
   "metadata": {},
   "source": [
    "### Importing, initializing and running a PCSE model"
   ]
  },
  {
   "cell_type": "code",
   "execution_count": 11,
   "id": "1f071795",
   "metadata": {},
   "outputs": [],
   "source": [
    "from pcse.models import Wofost71_WLP_FD, Wofost71_PP\n",
    "wofsim = Wofost71_WLP_FD(parameters, wdp, agromanagement)"
   ]
  },
  {
   "cell_type": "code",
   "execution_count": 12,
   "id": "384bfcad",
   "metadata": {},
   "outputs": [
    {
     "data": {
      "text/html": [
       "<div>\n",
       "<style scoped>\n",
       "    .dataframe tbody tr th:only-of-type {\n",
       "        vertical-align: middle;\n",
       "    }\n",
       "\n",
       "    .dataframe tbody tr th {\n",
       "        vertical-align: top;\n",
       "    }\n",
       "\n",
       "    .dataframe thead th {\n",
       "        text-align: right;\n",
       "    }\n",
       "</style>\n",
       "<table border=\"1\" class=\"dataframe\">\n",
       "  <thead>\n",
       "    <tr style=\"text-align: right;\">\n",
       "      <th></th>\n",
       "      <th>DVS</th>\n",
       "      <th>LAI</th>\n",
       "      <th>TAGP</th>\n",
       "      <th>TWSO</th>\n",
       "      <th>TWLV</th>\n",
       "      <th>TWST</th>\n",
       "      <th>TWRT</th>\n",
       "      <th>TRA</th>\n",
       "      <th>RD</th>\n",
       "      <th>SM</th>\n",
       "      <th>WWLOW</th>\n",
       "    </tr>\n",
       "    <tr>\n",
       "      <th>day</th>\n",
       "      <th></th>\n",
       "      <th></th>\n",
       "      <th></th>\n",
       "      <th></th>\n",
       "      <th></th>\n",
       "      <th></th>\n",
       "      <th></th>\n",
       "      <th></th>\n",
       "      <th></th>\n",
       "      <th></th>\n",
       "      <th></th>\n",
       "    </tr>\n",
       "  </thead>\n",
       "  <tbody>\n",
       "    <tr>\n",
       "      <th>2020-12-16</th>\n",
       "      <td>1.942594</td>\n",
       "      <td>0.587568</td>\n",
       "      <td>1687.882837</td>\n",
       "      <td>889.853793</td>\n",
       "      <td>565.460313</td>\n",
       "      <td>232.568731</td>\n",
       "      <td>206.564286</td>\n",
       "      <td>0.062160</td>\n",
       "      <td>82.0</td>\n",
       "      <td>0.177435</td>\n",
       "      <td>23.378745</td>\n",
       "    </tr>\n",
       "    <tr>\n",
       "      <th>2020-12-17</th>\n",
       "      <td>1.959435</td>\n",
       "      <td>0.559163</td>\n",
       "      <td>1687.882837</td>\n",
       "      <td>889.853793</td>\n",
       "      <td>565.460313</td>\n",
       "      <td>232.568731</td>\n",
       "      <td>206.564286</td>\n",
       "      <td>0.044259</td>\n",
       "      <td>82.0</td>\n",
       "      <td>0.176564</td>\n",
       "      <td>23.307312</td>\n",
       "    </tr>\n",
       "    <tr>\n",
       "      <th>2020-12-18</th>\n",
       "      <td>1.977476</td>\n",
       "      <td>0.528329</td>\n",
       "      <td>1687.882837</td>\n",
       "      <td>889.853793</td>\n",
       "      <td>565.460313</td>\n",
       "      <td>232.568731</td>\n",
       "      <td>206.564286</td>\n",
       "      <td>0.037282</td>\n",
       "      <td>82.0</td>\n",
       "      <td>0.175931</td>\n",
       "      <td>23.255412</td>\n",
       "    </tr>\n",
       "    <tr>\n",
       "      <th>2020-12-19</th>\n",
       "      <td>1.993535</td>\n",
       "      <td>0.499274</td>\n",
       "      <td>1687.882837</td>\n",
       "      <td>889.853793</td>\n",
       "      <td>565.460313</td>\n",
       "      <td>232.568731</td>\n",
       "      <td>206.564286</td>\n",
       "      <td>0.043761</td>\n",
       "      <td>82.0</td>\n",
       "      <td>0.176355</td>\n",
       "      <td>23.290174</td>\n",
       "    </tr>\n",
       "    <tr>\n",
       "      <th>2020-12-20</th>\n",
       "      <td>2.000000</td>\n",
       "      <td>0.444863</td>\n",
       "      <td>1687.882837</td>\n",
       "      <td>889.853793</td>\n",
       "      <td>565.460313</td>\n",
       "      <td>232.568731</td>\n",
       "      <td>206.564286</td>\n",
       "      <td>0.039814</td>\n",
       "      <td>82.0</td>\n",
       "      <td>0.177576</td>\n",
       "      <td>23.390317</td>\n",
       "    </tr>\n",
       "  </tbody>\n",
       "</table>\n",
       "</div>"
      ],
      "text/plain": [
       "                 DVS       LAI         TAGP        TWSO        TWLV  \\\n",
       "day                                                                   \n",
       "2020-12-16  1.942594  0.587568  1687.882837  889.853793  565.460313   \n",
       "2020-12-17  1.959435  0.559163  1687.882837  889.853793  565.460313   \n",
       "2020-12-18  1.977476  0.528329  1687.882837  889.853793  565.460313   \n",
       "2020-12-19  1.993535  0.499274  1687.882837  889.853793  565.460313   \n",
       "2020-12-20  2.000000  0.444863  1687.882837  889.853793  565.460313   \n",
       "\n",
       "                  TWST        TWRT       TRA    RD        SM      WWLOW  \n",
       "day                                                                      \n",
       "2020-12-16  232.568731  206.564286  0.062160  82.0  0.177435  23.378745  \n",
       "2020-12-17  232.568731  206.564286  0.044259  82.0  0.176564  23.307312  \n",
       "2020-12-18  232.568731  206.564286  0.037282  82.0  0.175931  23.255412  \n",
       "2020-12-19  232.568731  206.564286  0.043761  82.0  0.176355  23.290174  \n",
       "2020-12-20  232.568731  206.564286  0.039814  82.0  0.177576  23.390317  "
      ]
     },
     "execution_count": 12,
     "metadata": {},
     "output_type": "execute_result"
    }
   ],
   "source": [
    "wofsim.run_till_terminate()\n",
    "df_results = pd.DataFrame(wofsim.get_output())\n",
    "df_results = df_results.set_index(\"day\")\n",
    "#df_results.info()\n",
    "df_results.tail()"
   ]
  },
  {
   "cell_type": "markdown",
   "id": "b3a599ae",
   "metadata": {},
   "source": [
    "##### The simulated yield (TWSO) at simulated maturity (DAS =93) is 1824 kg/ha."
   ]
  },
  {
   "cell_type": "code",
   "execution_count": 11,
   "id": "36d417e2",
   "metadata": {},
   "outputs": [
    {
     "data": {
      "image/png": "[encoded data removed]",
      "text/plain": [
       "<Figure size 864x1080 with 6 Axes>"
      ]
     },
     "metadata": {},
     "output_type": "display_data"
    }
   ],
   "source": [
    "fig, axes = plt.subplots(nrows=3, ncols=2, figsize=(12,15))\n",
    "for var, ax in zip([\"DVS\", \"TAGP\", \"LAI\",\"TWSO\", \"SM\"], axes.flatten()):\n",
    "    ax.plot_date(df_results.index, df_results[var], 'b-')\n",
    "    ax.set_title(var)\n",
    "fig.autofmt_xdate()"
   ]
  },
  {
   "cell_type": "code",
   "execution_count": null,
   "id": "3b72d2b8",
   "metadata": {},
   "outputs": [],
   "source": []
  }
 ],
 "metadata": {
  "kernelspec": {
   "display_name": "Python 3 (ipykernel)",
   "language": "python",
   "name": "python3"
  },
  "language_info": {
   "codemirror_mode": {
    "name": "ipython",
    "version": 3
   },
   "file_extension": ".py",
   "mimetype": "text/x-python",
   "name": "python",
   "nbconvert_exporter": "python",
   "pygments_lexer": "ipython3",
   "version": "3.9.7"
  }
 },
 "nbformat": 4,
 "nbformat_minor": 5
}
