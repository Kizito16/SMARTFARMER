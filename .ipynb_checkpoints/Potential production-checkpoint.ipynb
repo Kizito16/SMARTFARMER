{
 "cells": [
  {
   "cell_type": "markdown",
   "id": "bf9cdfef",
   "metadata": {},
   "source": [
    "## Simulating the 2020/2021 SR season potential Soybean production in Chwele, Bungoma county."
   ]
  },
  {
   "cell_type": "markdown",
   "id": "14468a33",
   "metadata": {},
   "source": [
    "##### The input data for simulation is adopted from Alfred Nyambane's thesis report"
   ]
  },
  {
   "cell_type": "markdown",
   "id": "d364efb1",
   "metadata": {},
   "source": [
    "### Importing relevant modules"
   ]
  },
  {
   "cell_type": "code",
   "execution_count": 1,
   "id": "16779fdd",
   "metadata": {},
   "outputs": [
    {
     "name": "stdout",
     "output_type": "stream",
     "text": [
      "This notebook was built with:\n",
      "python version: 3.9.7 | packaged by conda-forge | (default, Sep 29 2021, 19:20:46) \n",
      "[GCC 9.4.0] \n",
      "PCSE version: 5.5.0\n"
     ]
    }
   ],
   "source": [
    "%matplotlib inline\n",
    "import sys, os\n",
    "import matplotlib\n",
    "matplotlib.style.use(\"ggplot\")\n",
    "import matplotlib.pyplot as plt\n",
    "import pandas as pd\n",
    "\n",
    "data_dir = os.path.join(os.getcwd(), \"data\")\n",
    "import pcse\n",
    "print(\"This notebook was built with:\")\n",
    "print(\"python version: %s \" % sys.version)\n",
    "print(\"PCSE version: %s\" %  pcse.__version__)"
   ]
  },
  {
   "cell_type": "markdown",
   "id": "5f8765fd",
   "metadata": {},
   "source": [
    "### Importing CABOFileReader, YAMLFileReader and  WOFOST71SiteDataProvider. "
   ]
  },
  {
   "cell_type": "code",
   "execution_count": 2,
   "id": "db0f65e7",
   "metadata": {},
   "outputs": [
    {
     "name": "stdout",
     "output_type": "stream",
     "text": [
      "{'IFUNRN': 0, 'NOTINF': 0, 'SSI': 0.0, 'SSMAX': 0.0, 'WAV': 10.0, 'SMLIM': 0.4, 'CO2': 360.0}\n"
     ]
    }
   ],
   "source": [
    "from pcse.fileinput import CABOFileReader\n",
    "from pcse.util import WOFOST71SiteDataProvider\n",
    "sited = WOFOST71SiteDataProvider(WAV=10, CO2=360)\n",
    "print(sited)"
   ]
  },
  {
   "cell_type": "markdown",
   "id": "5bb890ee",
   "metadata": {},
   "source": [
    "### Reading model parameters."
   ]
  },
  {
   "cell_type": "code",
   "execution_count": 3,
   "id": "38e91e6f-4826-4759-8891-b5f2f42dfa05",
   "metadata": {},
   "outputs": [],
   "source": [
    "from pcse.fileinput import PCSEFileReader\n",
    "from pcse.base import ParameterProvider\n",
    "#crop = PCSEFileReader(os.path.join(data_dir, \"crop\", \"lintul3_soybean.crop\"))\n",
    "from pcse.fileinput import YAMLCropDataProvider\n",
    "cropd = YAMLCropDataProvider(os.path.join(data_dir, \"crop\"))\n",
    "cropd.set_active_crop('soybean', 'Soybean_901')\n",
    "soil = PCSEFileReader(os.path.join(data_dir, \"soil\", \"lintul3_soybeans.soil\"))\n",
    "site = PCSEFileReader(os.path.join(data_dir, \"site\", \"lintul3_soybeans.site\"))\n",
    "parameterprovider = ParameterProvider(soildata=soil, cropdata=cropd, sitedata=site)\n",
    "#parameterprovider = ParameterProvider(soildata=soil, cropdata=crop, sitedata=site)"
   ]
  },
  {
   "cell_type": "code",
   "execution_count": 4,
   "id": "b8e3a394-29a3-455c-81cc-895d072d71cc",
   "metadata": {},
   "outputs": [
    {
     "name": "stdout",
     "output_type": "stream",
     "text": [
      "YAMLCropDataProvider - current active crop 'soybean' with variety 'Soybean_901'\n",
      "Available crop parameters:\n",
      " {'CO2EFFTB': [40.0, 0.0, 360.0, 1.0, 720.0, 1.11, 1000.0, 1.11, 2000.0, 1.11], 'CO2TRATB': [40.0, 0.0, 360.0, 1.0, 720.0, 0.9, 1000.0, 0.9, 2000.0, 0.9], 'CO2AMAXTB': [40.0, 0.0, 360.0, 1.0, 720.0, 1.6, 1000.0, 1.9, 2000.0, 1.9], 'TBASEM': 7.0, 'TEFFMX': 22.0, 'TSUMEM': 70, 'IDSL': 0, 'DLO': -99.0, 'DLC': -99.0, 'TSUM1': 350, 'TSUM2': 850, 'DTSMTB': [0.0, 0.0, 7.0, 0.0, 30.0, 23.0, 45.0, 38.0], 'DVSI': 0.0, 'DVSEND': 2.0, 'VERNBASE': 14.0, 'VERNSAT': 70.0, 'VERNDVS': 0.3, 'VERNRTB': [-8.0, 0.0, -4.0, 0.0, 3.0, 1.0, 10.0, 1.0, 17.0, 0.0, 20.0, 0.0], 'TDWI': 120.0, 'RGRLAI': 0.01, 'SLATB': [0.0, 0.0014, 0.45, 0.0025, 0.9, 0.0025, 2.0, 0.0007], 'SPA': 0.0, 'SSATB': [0.0, 0.0, 2.0, 0.0], 'SPAN': 23.0, 'TBASE': 7.0, 'KDIFTB': [0.0, 0.8, 2.0, 0.8], 'EFFTB': [0.0, 0.4, 40.0, 0.4], 'AMAXTB': [0.0, 29.0, 1.7, 29.0, 2.0, 0.0], 'TMPFTB': [0.0, 0.0, 10.0, 0.3, 20.0, 0.6, 25.0, 0.8, 30.0, 1.0, 35.0, 1.0], 'TMNFTB': [0.0, 0.0, 3.0, 1.0], 'CVL': 0.72, 'CVO': 0.48, 'CVR': 0.72, 'CVS': 0.69, 'Q10': 2.0, 'RML': 0.03, 'RMO': 0.017, 'RMR': 0.01, 'RMS': 0.015, 'RFSETB': [0.0, 1.0, 2.0, 1.0], 'FRTB': [0.0, 0.65, 0.75, 0.35, 1.0, 0.15, 1.5, 0.0, 2.0, 0.0], 'FLTB': [0.0, 0.7, 1.0, 0.7, 1.15, 0.6, 1.3, 0.43, 1.5, 0.15, 2.0, 0.0], 'FSTB': [0.0, 0.3, 1.0, 0.3, 1.15, 0.25, 1.3, 0.1, 1.5, 0.1, 2.0, 0.0], 'FOTB': [0.0, 0.0, 1.0, 0.0, 1.15, 0.15, 1.3, 0.47, 1.5, 0.75, 2.0, 1.0], 'PERDL': 0.03, 'RDRRTB': [0.0, 0.0, 1.5, 0.0, 1.51, 0.02, 2.0, 0.02], 'RDRSTB': [0.0, 0.0, 1.5, 0.0, 1.51, 0.02, 2.0, 0.02], 'CFET': 1.0, 'DEPNR': 5.0, 'IAIRDU': 0, 'IOX': 0, 'RDI': 10.0, 'RRI': 1.2, 'RDMCR': 120.0, 'NMAXLV_TB': [0.0, 0.06, 0.4, 0.04, 0.7, 0.035, 1.0, 0.03, 2.0, 0.0293, 2.1, 0.0293], 'NMAXRT_FR': 0.5, 'NMAXST_FR': 0.5, 'NMAXSO': 0.056, 'NCRIT_FR': 1.0, 'NRESIDLV': 0.00933, 'NRESIDST': 0.00467, 'NRESIDRT': 0.00467, 'TCNT': 10, 'NFIX_FR': 0.8, 'PMAXLV_TB': [0.0, 0.0142, 0.4, 0.0095, 0.7, 0.0083, 1.0, 0.0071, 2.0, 0.0069, 2.1, 0.0069], 'PMAXRT_FR': 0.5, 'PMAXST_FR': 0.5, 'PMAXSO': 0.0043, 'PCRIT_FR': 1.0, 'PRESIDLV': 0.00147, 'PRESIDST': 0.00073, 'PRESIDRT': 0.00073, 'TCPT': 10, 'KMAXLV_TB': [0.0, 0.0655, 0.4, 0.0436, 0.7, 0.0382, 1.0, 0.0327, 2.0, 0.032, 2.1, 0.032], 'KMAXRT_FR': 0.5, 'KMAXST_FR': 0.5, 'KMAXSO': 0.0192, 'KCRIT_FR': 1.0, 'KRESIDLV': 0.00933, 'KRESIDST': 0.00467, 'KRESIDRT': 0.00467, 'TCKT': 10, 'DVS_NPK_STOP': 1.5, 'DVS_NPK_TRANSL': 0.8, 'NLAI_NPK': 1.0, 'NSLA_NPK': 0.5, 'NPART': 1.0, 'NLUE_NPK': 1.1, 'NPK_TRANSLRT_FR': 0.5, 'RDRLV_NPK': 0.05}\n"
     ]
    }
   ],
   "source": [
    "print(cropd)"
   ]
  },
  {
   "cell_type": "markdown",
   "id": "c1cda2ce",
   "metadata": {},
   "source": [
    "##### The crop profile for SeedCo. SC-Saga soybean cultivar was adopted from the soybean,(original W41) in WOFOST database. This is because Soybean,(original W41) was derived for assessment of tropical region crop production potential by WOFOST developers. "
   ]
  },
  {
   "cell_type": "code",
   "execution_count": 5,
   "id": "92f547a0",
   "metadata": {},
   "outputs": [],
   "source": [
    "soilfile = os.path.join(data_dir, 'soil', 'M04.AWC')\n",
    "soild = CABOFileReader(soilfile)"
   ]
  },
  {
   "cell_type": "markdown",
   "id": "4151de38",
   "metadata": {},
   "source": [
    "#####  The soil at the experiment site has 63.8% sand, 36% and 0.21% clay and silt respectively. According to the USDA soil texture triangle, the soil is sandy clay loam and roughly matches with the texture-1 coarse, AWC 150 mm soil in WOFOST. "
   ]
  },
  {
   "cell_type": "code",
   "execution_count": 6,
   "id": "8e83e877",
   "metadata": {},
   "outputs": [],
   "source": [
    "from pcse.base import ParameterProvider\n",
    "parameters = ParameterProvider(cropdata=cropd, soildata=soild, sitedata=sited)"
   ]
  },
  {
   "cell_type": "markdown",
   "id": "cb4537b8",
   "metadata": {},
   "source": [
    "### Importing ParameterProvider"
   ]
  },
  {
   "cell_type": "code",
   "execution_count": 7,
   "id": "d3226491",
   "metadata": {},
   "outputs": [],
   "source": [
    "from pcse.base import ParameterProvider\n",
    "parameters = ParameterProvider(cropdata=cropd, soildata=soild, sitedata=sited)"
   ]
  },
  {
   "cell_type": "markdown",
   "id": "739058a4",
   "metadata": {},
   "source": [
    "### Importing YAMLAgroManagementReader"
   ]
  },
  {
   "cell_type": "code",
   "execution_count": 8,
   "id": "2b7bb956",
   "metadata": {},
   "outputs": [
    {
     "name": "stdout",
     "output_type": "stream",
     "text": [
      "!!python/object/new:pcse.fileinput.yaml_agro_loader.YAMLAgroManagementReader\n",
      "listitems:\n",
      "- 2020-08-31:\n",
      "    CropCalendar:\n",
      "      crop_end_date: 2021-01-12\n",
      "      crop_end_type: earliest\n",
      "      crop_name: soybean\n",
      "      crop_start_date: 2020-09-15\n",
      "      crop_start_type: sowing\n",
      "      max_duration: 120\n",
      "      variety_name: Soybean_907\n",
      "    StateEvents: null\n",
      "    TimedEvents:\n",
      "    - comment: All nitrogen amounts in g N m-2\n",
      "      event_signal: apply_n\n",
      "      events_table:\n",
      "      - 2020-09-15:\n",
      "          amount: 2.2\n",
      "          recovery: 0.7\n",
      "      name: Nitrogen application table\n",
      "\n"
     ]
    }
   ],
   "source": [
    "from pcse.fileinput import YAMLAgroManagementReader\n",
    "agromanagement_file = os.path.join(data_dir, 'agro', 'lintul3_soybeans_calendar.agro')\n",
    "agromanagement = YAMLAgroManagementReader(agromanagement_file)\n",
    "print(agromanagement)"
   ]
  },
  {
   "cell_type": "markdown",
   "id": "ec5cd213",
   "metadata": {},
   "source": [
    "### Importing ExcelWeatherDataProvider and reading weather data "
   ]
  },
  {
   "cell_type": "code",
   "execution_count": 9,
   "id": "1460efce",
   "metadata": {},
   "outputs": [
    {
     "name": "stdout",
     "output_type": "stream",
     "text": [
      "Weather data provided by: ExcelWeatherDataProvider\n",
      "--------Description---------\n",
      "Weather data for:\n",
      "Country: Chwele, Kenya\n",
      "Station: NIL\n",
      "Description: Observed data from Chwele, Kenya\n",
      "Source: NIL\n",
      "Contact: KALRO/ AgriBORA\n",
      "----Site characteristics----\n",
      "Elevation: 1625.0\n",
      "Latitude:  34.577\n",
      "Longitude:  0.736\n",
      "Data available for 2016-01-01 - 2021-08-30\n",
      "Number of missing days: 0\n",
      "\n"
     ]
    }
   ],
   "source": [
    "from pcse.fileinput import ExcelWeatherDataProvider\n",
    "weatherfile = os.path.join(data_dir, 'meteo', 'chwele.xls')\n",
    "wdp = ExcelWeatherDataProvider(weatherfile)\n",
    "print(wdp)"
   ]
  },
  {
   "cell_type": "markdown",
   "id": "dae80443",
   "metadata": {},
   "source": [
    "##### The weather data is downloaded from meteoblue historybasic and historysolar and saved in an excel file. The global horizontal irradiation (GHI) downloaded from the historysolar URL is considered as the irradiation variable. GHI downloaded is in Wh/m^2 and not W/m^2. This is then converted to the kJ/M62/day that is compartible to the WOFOST model. "
   ]
  },
  {
   "cell_type": "markdown",
   "id": "51daba28",
   "metadata": {},
   "source": [
    "### Importing, initializing and running a PCSE model"
   ]
  },
  {
   "cell_type": "code",
   "execution_count": 10,
   "id": "f88aeea8",
   "metadata": {},
   "outputs": [],
   "source": [
    "from pcse.models import Wofost71_WLP_FD, Wofost71_PP\n",
    "wofsim = Wofost71_PP(parameters, wdp, agromanagement)"
   ]
  },
  {
   "cell_type": "code",
   "execution_count": 11,
   "id": "bd956858",
   "metadata": {},
   "outputs": [
    {
     "data": {
      "text/html": [
       "<div>\n",
       "<style scoped>\n",
       "    .dataframe tbody tr th:only-of-type {\n",
       "        vertical-align: middle;\n",
       "    }\n",
       "\n",
       "    .dataframe tbody tr th {\n",
       "        vertical-align: top;\n",
       "    }\n",
       "\n",
       "    .dataframe thead th {\n",
       "        text-align: right;\n",
       "    }\n",
       "</style>\n",
       "<table border=\"1\" class=\"dataframe\">\n",
       "  <thead>\n",
       "    <tr style=\"text-align: right;\">\n",
       "      <th></th>\n",
       "      <th>DVS</th>\n",
       "      <th>LAI</th>\n",
       "      <th>TAGP</th>\n",
       "      <th>TWSO</th>\n",
       "      <th>TWLV</th>\n",
       "      <th>TWST</th>\n",
       "      <th>TWRT</th>\n",
       "      <th>TRA</th>\n",
       "      <th>RD</th>\n",
       "      <th>SM</th>\n",
       "      <th>WWLOW</th>\n",
       "    </tr>\n",
       "    <tr>\n",
       "      <th>day</th>\n",
       "      <th></th>\n",
       "      <th></th>\n",
       "      <th></th>\n",
       "      <th></th>\n",
       "      <th></th>\n",
       "      <th></th>\n",
       "      <th></th>\n",
       "      <th></th>\n",
       "      <th></th>\n",
       "      <th></th>\n",
       "      <th></th>\n",
       "    </tr>\n",
       "  </thead>\n",
       "  <tbody>\n",
       "    <tr>\n",
       "      <th>2020-12-16</th>\n",
       "      <td>1.942594</td>\n",
       "      <td>0.609731</td>\n",
       "      <td>1781.685209</td>\n",
       "      <td>963.855476</td>\n",
       "      <td>579.336696</td>\n",
       "      <td>238.493036</td>\n",
       "      <td>207.913839</td>\n",
       "      <td>0.064102</td>\n",
       "      <td>82.0</td>\n",
       "      <td>0.35</td>\n",
       "      <td>None</td>\n",
       "    </tr>\n",
       "    <tr>\n",
       "      <th>2020-12-17</th>\n",
       "      <td>1.959435</td>\n",
       "      <td>0.581326</td>\n",
       "      <td>1781.685209</td>\n",
       "      <td>963.855476</td>\n",
       "      <td>579.336696</td>\n",
       "      <td>238.493036</td>\n",
       "      <td>207.913839</td>\n",
       "      <td>0.085173</td>\n",
       "      <td>82.0</td>\n",
       "      <td>0.35</td>\n",
       "      <td>None</td>\n",
       "    </tr>\n",
       "    <tr>\n",
       "      <th>2020-12-18</th>\n",
       "      <td>1.977476</td>\n",
       "      <td>0.550492</td>\n",
       "      <td>1781.685209</td>\n",
       "      <td>963.855476</td>\n",
       "      <td>579.336696</td>\n",
       "      <td>238.493036</td>\n",
       "      <td>207.913839</td>\n",
       "      <td>0.091560</td>\n",
       "      <td>82.0</td>\n",
       "      <td>0.35</td>\n",
       "      <td>None</td>\n",
       "    </tr>\n",
       "    <tr>\n",
       "      <th>2020-12-19</th>\n",
       "      <td>1.993535</td>\n",
       "      <td>0.521437</td>\n",
       "      <td>1781.685209</td>\n",
       "      <td>963.855476</td>\n",
       "      <td>579.336696</td>\n",
       "      <td>238.493036</td>\n",
       "      <td>207.913839</td>\n",
       "      <td>0.070695</td>\n",
       "      <td>82.0</td>\n",
       "      <td>0.35</td>\n",
       "      <td>None</td>\n",
       "    </tr>\n",
       "    <tr>\n",
       "      <th>2020-12-20</th>\n",
       "      <td>2.000000</td>\n",
       "      <td>0.467026</td>\n",
       "      <td>1781.685209</td>\n",
       "      <td>963.855476</td>\n",
       "      <td>579.336696</td>\n",
       "      <td>238.493036</td>\n",
       "      <td>207.913839</td>\n",
       "      <td>0.068364</td>\n",
       "      <td>82.0</td>\n",
       "      <td>0.35</td>\n",
       "      <td>None</td>\n",
       "    </tr>\n",
       "  </tbody>\n",
       "</table>\n",
       "</div>"
      ],
      "text/plain": [
       "                 DVS       LAI         TAGP        TWSO        TWLV  \\\n",
       "day                                                                   \n",
       "2020-12-16  1.942594  0.609731  1781.685209  963.855476  579.336696   \n",
       "2020-12-17  1.959435  0.581326  1781.685209  963.855476  579.336696   \n",
       "2020-12-18  1.977476  0.550492  1781.685209  963.855476  579.336696   \n",
       "2020-12-19  1.993535  0.521437  1781.685209  963.855476  579.336696   \n",
       "2020-12-20  2.000000  0.467026  1781.685209  963.855476  579.336696   \n",
       "\n",
       "                  TWST        TWRT       TRA    RD    SM WWLOW  \n",
       "day                                                             \n",
       "2020-12-16  238.493036  207.913839  0.064102  82.0  0.35  None  \n",
       "2020-12-17  238.493036  207.913839  0.085173  82.0  0.35  None  \n",
       "2020-12-18  238.493036  207.913839  0.091560  82.0  0.35  None  \n",
       "2020-12-19  238.493036  207.913839  0.070695  82.0  0.35  None  \n",
       "2020-12-20  238.493036  207.913839  0.068364  82.0  0.35  None  "
      ]
     },
     "execution_count": 11,
     "metadata": {},
     "output_type": "execute_result"
    }
   ],
   "source": [
    "wofsim.run_till_terminate()\n",
    "df_results = pd.DataFrame(wofsim.get_output())\n",
    "df_results = df_results.set_index(\"day\")\n",
    "#df_results.info()\n",
    "df_results.tail()"
   ]
  },
  {
   "cell_type": "markdown",
   "id": "cbe10d22",
   "metadata": {},
   "source": [
    "##### The simulated yield (TWSO) at simulated maturity (DAS=93) is 1828 kg/ha."
   ]
  },
  {
   "cell_type": "code",
   "execution_count": 12,
   "id": "911d905b",
   "metadata": {},
   "outputs": [
    {
     "data": {
      "image/png": "[encoded data removed]",
      "text/plain": [
       "<Figure size 864x1080 with 6 Axes>"
      ]
     },
     "metadata": {},
     "output_type": "display_data"
    }
   ],
   "source": [
    "fig, axes = plt.subplots(nrows=3, ncols=2, figsize=(12,15))\n",
    "for var, ax in zip([\"DVS\", \"TAGP\", \"LAI\",\"TWSO\", \"SM\"], axes.flatten()):\n",
    "    ax.plot_date(df_results.index, df_results[var], 'b-')\n",
    "    ax.set_title(var)\n",
    "fig.autofmt_xdate()"
   ]
  },
  {
   "cell_type": "code",
   "execution_count": null,
   "id": "595e4518",
   "metadata": {},
   "outputs": [],
   "source": []
  }
 ],
 "metadata": {
  "kernelspec": {
   "display_name": "Python 3 (ipykernel)",
   "language": "python",
   "name": "python3"
  },
  "language_info": {
   "codemirror_mode": {
    "name": "ipython",
    "version": 3
   },
   "file_extension": ".py",
   "mimetype": "text/x-python",
   "name": "python",
   "nbconvert_exporter": "python",
   "pygments_lexer": "ipython3",
   "version": "3.9.7"
  }
 },
 "nbformat": 4,
 "nbformat_minor": 5
}
